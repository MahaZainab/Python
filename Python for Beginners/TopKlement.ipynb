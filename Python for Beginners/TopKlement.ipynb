{
 "cells": [
  {
   "cell_type": "code",
   "execution_count": null,
   "metadata": {},
   "outputs": [],
   "source": [
    "nums=[1,1,1,3,4,5,5]\n",
    "k=2\n",
    "count={}\n",
    "freq=[[] for i in range(len(nums)+1)]\n",
    "for num in nums:\n",
    "    count[num]=1+count(num, 0)\n",
    "for n,c in count.items():\n",
    "    freq[c].append(n)\n",
    "res=[]\n",
    "for i in range(len(freq)-1, 0,-1):\n",
    "    for n in freq[i]:\n",
    "        res.append(n)\n",
    "        if len(res)==k:\n",
    "            break;\n",
    "\n",
    "print(res)\n",
    "\n"
   ]
  }
 ],
 "metadata": {
  "language_info": {
   "name": "python"
  }
 },
 "nbformat": 4,
 "nbformat_minor": 2
}
