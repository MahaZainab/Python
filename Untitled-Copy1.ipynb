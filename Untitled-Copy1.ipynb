{
 "cells": [
  {
   "cell_type": "markdown",
   "id": "89445826",
   "metadata": {},
   "source": [
    "# Maha Zainab"
   ]
  },
  {
   "cell_type": "markdown",
   "id": "68b066e7",
   "metadata": {},
   "source": [
    "## Objective\n",
    "### Minimizing the line of code using list comprehension"
   ]
  },
  {
   "cell_type": "markdown",
   "id": "ef067ed4",
   "metadata": {},
   "source": [
    "## Questions\n",
    "### 1. Counting negative numbers in a given list e.g. [5, -1, -2, 0, 3]"
   ]
  },
  {
   "cell_type": "code",
   "execution_count": 2,
   "id": "b6f14df1",
   "metadata": {},
   "outputs": [],
   "source": [
    "def count_negatives(nums):\n",
    "    negative=0\n",
    "    for num in nums:\n",
    "        if num<0:\n",
    "            negative+=1\n",
    "    return negative"
   ]
  },
  {
   "cell_type": "code",
   "execution_count": 4,
   "id": "23e210da",
   "metadata": {},
   "outputs": [
    {
     "data": {
      "text/plain": [
       "4"
      ]
     },
     "execution_count": 4,
     "metadata": {},
     "output_type": "execute_result"
    }
   ],
   "source": [
    "count_negatives([5,-1,-2,0,3,15,-10,18,-145])"
   ]
  },
  {
   "cell_type": "code",
   "execution_count": 9,
   "id": "cdfd359d",
   "metadata": {},
   "outputs": [],
   "source": [
    "def count_negatives1(nums):\n",
    "    return len([num for num in nums if num<0])"
   ]
  },
  {
   "cell_type": "code",
   "execution_count": 10,
   "id": "9cf0672e",
   "metadata": {},
   "outputs": [
    {
     "data": {
      "text/plain": [
       "4"
      ]
     },
     "execution_count": 10,
     "metadata": {},
     "output_type": "execute_result"
    }
   ],
   "source": [
    "count_negatives1([5,-1,-2,0,3,15,-10,18,-145])"
   ]
  },
  {
   "cell_type": "code",
   "execution_count": 13,
   "id": "a257c0f8",
   "metadata": {},
   "outputs": [],
   "source": [
    "def count_negatives2(nums):\n",
    "    return sum([num< 0 for num in nums])"
   ]
  },
  {
   "cell_type": "code",
   "execution_count": 14,
   "id": "124ab8e9",
   "metadata": {},
   "outputs": [
    {
     "data": {
      "text/plain": [
       "4"
      ]
     },
     "execution_count": 14,
     "metadata": {},
     "output_type": "execute_result"
    }
   ],
   "source": [
    "count_negatives2([5,-1,-2,0,3,15,-10,18,-145])"
   ]
  },
  {
   "cell_type": "code",
   "execution_count": null,
   "id": "efe7f0e2",
   "metadata": {},
   "outputs": [],
   "source": []
  }
 ],
 "metadata": {
  "kernelspec": {
   "display_name": "Python 3 (ipykernel)",
   "language": "python",
   "name": "python3"
  },
  "language_info": {
   "codemirror_mode": {
    "name": "ipython",
    "version": 3
   },
   "file_extension": ".py",
   "mimetype": "text/x-python",
   "name": "python",
   "nbconvert_exporter": "python",
   "pygments_lexer": "ipython3",
   "version": "3.9.12"
  }
 },
 "nbformat": 4,
 "nbformat_minor": 5
}
