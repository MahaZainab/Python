{
 "cells": [
  {
   "cell_type": "markdown",
   "id": "eb7daa5f",
   "metadata": {},
   "source": [
    "# Python for bignners, Day 1, Lecture 1"
   ]
  },
  {
   "cell_type": "markdown",
   "id": "1f8ca342",
   "metadata": {},
   "source": [
    "### First install python in your machine\n",
    "###### There are two basic versions Python 2.7(old) and Python 3.6(future of python) \n",
    "###### We are going to learn python 3\n",
    "so download it and install it on your machine using simple wizard"
   ]
  },
  {
   "cell_type": "markdown",
   "id": "ac304ce5",
   "metadata": {},
   "source": [
    "### At second step is to install some IDE, so that we can code \n",
    "Lets print something on screen\n"
   ]
  },
  {
   "cell_type": "code",
   "execution_count": 1,
   "id": "97fb73eb",
   "metadata": {},
   "outputs": [
    {
     "name": "stdout",
     "output_type": "stream",
     "text": [
      "Hello World\n"
     ]
    }
   ],
   "source": [
    "print(\"Hello World\")"
   ]
  },
  {
   "cell_type": "markdown",
   "id": "5313772b",
   "metadata": {},
   "source": [
    "Lets draw a shape on screen"
   ]
  },
  {
   "cell_type": "code",
   "execution_count": 2,
   "id": "31594d44",
   "metadata": {},
   "outputs": [
    {
     "name": "stdout",
     "output_type": "stream",
     "text": [
      "   /|\n",
      "  / |\n",
      " /  |\n",
      "/___|\n"
     ]
    }
   ],
   "source": [
    "print(\"   /|\")\n",
    "print(\"  / |\")\n",
    "print(\" /  |\")\n",
    "print(\"/___|\")"
   ]
  },
  {
   "cell_type": "markdown",
   "id": "1acf69b9",
   "metadata": {},
   "source": [
    "the order of the instruction is going to matter a lot,  as python execute the lines of code in order"
   ]
  },
  {
   "cell_type": "markdown",
   "id": "de782edb",
   "metadata": {},
   "source": [
    "#### Now we are going to learn about variables and datatypes"
   ]
  },
  {
   "cell_type": "markdown",
   "id": "17b26bfb",
   "metadata": {},
   "source": [
    "variables are basically containers where we are going to store some data values, one of the core topic in python"
   ]
  },
  {
   "cell_type": "code",
   "execution_count": 2,
   "id": "4323e7d1",
   "metadata": {},
   "outputs": [
    {
     "name": "stdout",
     "output_type": "stream",
     "text": [
      "There once a man named John, \n",
      "He was 70 years old.\n",
      "He really liked the name John, \n",
      "But did not like being 70.\n"
     ]
    }
   ],
   "source": [
    "print(\"There once a man named John, \")\n",
    "print(\"He was 70 years old.\")\n",
    "print(\"He really liked the name John, \")\n",
    "print(\"But did not like being 70.\")"
   ]
  },
  {
   "cell_type": "code",
   "execution_count": 7,
   "id": "72ba9483",
   "metadata": {},
   "outputs": [
    {
     "name": "stdout",
     "output_type": "stream",
     "text": [
      "There once a man named Tom, \n",
      "He was 50 years old.\n",
      "He really liked the name Tom, \n",
      "But did not like being 50.\n"
     ]
    }
   ],
   "source": [
    "character_name= \"Tom\"\n",
    "character_age=\"50\"\n",
    "print(\"There once a man named \"+character_name+\", \")\n",
    "print(\"He was \"+character_age +\" years old.\")\n",
    "print(\"He really liked the name \"+character_name+\", \")\n",
    "print(\"But did not like being \"+character_age+\".\")"
   ]
  },
  {
   "cell_type": "code",
   "execution_count": null,
   "id": "97e1d639",
   "metadata": {},
   "outputs": [],
   "source": []
  }
 ],
 "metadata": {
  "kernelspec": {
   "display_name": "Python 3 (ipykernel)",
   "language": "python",
   "name": "python3"
  },
  "language_info": {
   "codemirror_mode": {
    "name": "ipython",
    "version": 3
   },
   "file_extension": ".py",
   "mimetype": "text/x-python",
   "name": "python",
   "nbconvert_exporter": "python",
   "pygments_lexer": "ipython3",
   "version": "3.9.12"
  }
 },
 "nbformat": 4,
 "nbformat_minor": 5
}
