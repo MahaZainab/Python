{
 "cells": [
  {
   "cell_type": "code",
   "execution_count": null,
   "metadata": {},
   "outputs": [],
   "source": [
    "count={}\n",
    "freq=[[] for i in range(len(nums)+1)]\n",
    "for num in nums:\n",
    "    count[num]=1+count(num, 0)\n",
    "for n,c in count.items():\n",
    "    freq[c].append(n)\n",
    "res=[]\n",
    "for i in range(len)\n",
    "\n",
    "\n"
   ]
  }
 ],
 "metadata": {
  "language_info": {
   "name": "python"
  }
 },
 "nbformat": 4,
 "nbformat_minor": 2
}
