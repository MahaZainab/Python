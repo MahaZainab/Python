{
 "cells": [
  {
   "cell_type": "markdown",
   "metadata": {},
   "source": [
    "## SQL query in Pandas\n",
    "SELECT MAX(salary) AS SecondHighestSalary\n",
    "FROM Employee\n",
    "WHERE salary < (SELECT MAX(salary) FROM Employee);"
   ]
  },
  {
   "cell_type": "code",
   "execution_count": 1,
   "metadata": {},
   "outputs": [
    {
     "name": "stdout",
     "output_type": "stream",
     "text": [
      "400\n"
     ]
    }
   ],
   "source": [
    "import pandas as pd\n",
    "\n",
    "# Sample data\n",
    "data = {\n",
    "    'id': [1, 2, 3, 4, 5],\n",
    "    'salary': [100, 200, 300, 400, 500]\n",
    "}\n",
    "\n",
    "# Creating DataFrame\n",
    "df = pd.DataFrame(data)\n",
    "\n",
    "# Finding the second highest salary\n",
    "def second_highest_salary(df):\n",
    "    unique_salaries = df['salary'].drop_duplicates().sort_values(ascending=False)\n",
    "    if len(unique_salaries) < 2:\n",
    "        return None\n",
    "    else:\n",
    "        return unique_salaries.iloc[1]\n",
    "\n",
    "second_highest = second_highest_salary(df)\n",
    "print(second_highest)\n"
   ]
  },
  {
   "cell_type": "markdown",
   "metadata": {},
   "source": [
    "### Explanation:\n",
    "Drop Duplicates: drop_duplicates() is used to remove duplicate salaries.\n",
    "Sort Values: sort_values(ascending=False) sorts the salaries in descending order.\n",
    "Check Length: If there are less than 2 unique salaries, return None.\n",
    "Get Second Highest: Otherwise, return the second element in the sorted list."
   ]
  },
  {
   "cell_type": "code",
   "execution_count": null,
   "metadata": {},
   "outputs": [],
   "source": []
  },
  {
   "cell_type": "code",
   "execution_count": null,
   "metadata": {},
   "outputs": [],
   "source": []
  },
  {
   "cell_type": "markdown",
   "metadata": {},
   "source": []
  }
 ],
 "metadata": {
  "kernelspec": {
   "display_name": "Python 3",
   "language": "python",
   "name": "python3"
  },
  "language_info": {
   "codemirror_mode": {
    "name": "ipython",
    "version": 3
   },
   "file_extension": ".py",
   "mimetype": "text/x-python",
   "name": "python",
   "nbconvert_exporter": "python",
   "pygments_lexer": "ipython3",
   "version": "3.12.1"
  }
 },
 "nbformat": 4,
 "nbformat_minor": 2
}
