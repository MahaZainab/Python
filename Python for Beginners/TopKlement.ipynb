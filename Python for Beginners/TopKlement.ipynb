{
 "cells": [
  {
   "cell_type": "code",
   "execution_count": 2,
   "metadata": {},
   "outputs": [
    {
     "name": "stdout",
     "output_type": "stream",
     "text": [
      "[1, 5, 3, 4]\n"
     ]
    }
   ],
   "source": [
    "nums=[1,1,1,3,4,5,5]\n",
    "k=2\n",
    "count={}\n",
    "freq=[[] for i in range(len(nums)+1)]\n",
    "for num in nums:\n",
    "    count[num]=1+count.get(num, 0)\n",
    "for n,c in count.items():\n",
    "    freq[c].append(n)\n",
    "res=[]\n",
    "for i in range(len(freq)-1, 0,-1):\n",
    "    for n in freq[i]:\n",
    "        res.append(n)\n",
    "        if len(res)==k:\n",
    "            break;\n",
    "\n",
    "print(res)\n",
    "\n"
   ]
  },
  {
   "cell_type": "code",
   "execution_count": null,
   "metadata": {},
   "outputs": [],
   "source": []
  }
 ],
 "metadata": {
  "kernelspec": {
   "display_name": "Python 3",
   "language": "python",
   "name": "python3"
  },
  "language_info": {
   "codemirror_mode": {
    "name": "ipython",
    "version": 3
   },
   "file_extension": ".py",
   "mimetype": "text/x-python",
   "name": "python",
   "nbconvert_exporter": "python",
   "pygments_lexer": "ipython3",
   "version": "3.12.5"
  }
 },
 "nbformat": 4,
 "nbformat_minor": 2
}
