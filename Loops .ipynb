{
 "cells": [
  {
   "cell_type": "code",
   "execution_count": 4,
   "id": "1646070c",
   "metadata": {},
   "outputs": [
    {
     "name": "stdout",
     "output_type": "stream",
     "text": [
      "Hello worldcrazyMahacrazyZainab\n"
     ]
    }
   ],
   "source": [
    "first_name=\"Maha\"\n",
    "last_name=\"Zainab\"\n",
    "print(\"Hello world\",first_name,last_name,sep='crazy')"
   ]
  },
  {
   "cell_type": "code",
   "execution_count": 5,
   "id": "b03261df",
   "metadata": {},
   "outputs": [
    {
     "data": {
      "text/plain": [
       "2"
      ]
     },
     "execution_count": 5,
     "metadata": {},
     "output_type": "execute_result"
    }
   ],
   "source": [
    "round(2.01)"
   ]
  },
  {
   "cell_type": "code",
   "execution_count": 6,
   "id": "586b2571",
   "metadata": {},
   "outputs": [
    {
     "name": "stdout",
     "output_type": "stream",
     "text": [
      "Help on built-in function round in module builtins:\n",
      "\n",
      "round(number, ndigits=None)\n",
      "    Round a number to a given precision in decimal digits.\n",
      "    \n",
      "    The return value is an integer if ndigits is omitted or None.  Otherwise\n",
      "    the return value has the same type as the number.  ndigits may be negative.\n",
      "\n"
     ]
    }
   ],
   "source": [
    "help(round)"
   ]
  },
  {
   "cell_type": "code",
   "execution_count": 19,
   "id": "80fa7f9b",
   "metadata": {
    "scrolled": true
   },
   "outputs": [],
   "source": [
    "## title"
   ]
  },
  {
   "cell_type": "markdown",
   "id": "3df9c492",
   "metadata": {},
   "source": [
    "**this is bold**  "
   ]
  },
  {
   "cell_type": "markdown",
   "id": "bebf0db4",
   "metadata": {},
   "source": [
    "# maha"
   ]
  },
  {
   "cell_type": "code",
   "execution_count": 1,
   "id": "54081825",
   "metadata": {},
   "outputs": [
    {
     "name": "stdout",
     "output_type": "stream",
     "text": [
      "1 2 3 4\n"
     ]
    }
   ],
   "source": [
    "AList=[1,2,3,4]\n",
    "print(*AList)"
   ]
  },
  {
   "cell_type": "code",
   "execution_count": 4,
   "id": "9d0c1a70",
   "metadata": {},
   "outputs": [
    {
     "name": "stdout",
     "output_type": "stream",
     "text": [
      "1 2 [2, 4] 3 5\n"
     ]
    }
   ],
   "source": [
    "AnotherList=[1,2,[2,4], 3,5]\n",
    "print(*AnotherList)"
   ]
  },
  {
   "cell_type": "code",
   "execution_count": null,
   "id": "b2c141f3",
   "metadata": {},
   "outputs": [],
   "source": []
  }
 ],
 "metadata": {
  "kernelspec": {
   "display_name": "Python 3 (ipykernel)",
   "language": "python",
   "name": "python3"
  },
  "language_info": {
   "codemirror_mode": {
    "name": "ipython",
    "version": 3
   },
   "file_extension": ".py",
   "mimetype": "text/x-python",
   "name": "python",
   "nbconvert_exporter": "python",
   "pygments_lexer": "ipython3",
   "version": "3.9.12"
  }
 },
 "nbformat": 4,
 "nbformat_minor": 5
}
